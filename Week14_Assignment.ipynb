{
 "cells": [
  {
   "cell_type": "markdown",
   "metadata": {},
   "source": [
    "# IS 362 - Week 14 Assignment"
   ]
  },
  {
   "cell_type": "markdown",
   "metadata": {},
   "source": [
    "Target is a general merchandise retailer with stores in all 50 US states and the District of Columbia. 75% of US population lives within 10 miles of a Target store. Target has very strong and accessible online shopping system. Today, Target is rolling out same-day store delivery to online orders. It is a service operated by last-mile delivery partner."
   ]
  },
  {
   "cell_type": "markdown",
   "metadata": {},
   "source": [
    "## Who are Target online's target users?"
   ]
  },
  {
   "cell_type": "markdown",
   "metadata": {},
   "source": [
    "Target appeals to a range of customer segments, including women, kids, teens, young singles and families. Typically, customers are well-educated, moderate-to-better income families who live active lifestyles."
   ]
  },
  {
   "cell_type": "markdown",
   "metadata": {},
   "source": [
    "## What are their goals?"
   ]
  },
  {
   "cell_type": "markdown",
   "metadata": {},
   "source": [
    "Like I said, Target's customers are those who are well-educated, moderate-to-better income families who live active lifestyles. They hope their life to be more efficient and easy to find the high quality goods that they want. Therefore, they look for a online platform which can accurately recommend the different types of goods that they want. And once the orders are placed, they need the machindise retailer to quickly bring the stuff to their home without paying a lot. "
   ]
  },
  {
   "cell_type": "markdown",
   "metadata": {},
   "source": [
    "## How can Target achieve their goals?"
   ]
  },
  {
   "cell_type": "markdown",
   "metadata": {},
   "source": [
    "First of all, with the large amount of goods and local stores, Target definitely has the resources to meet the needs of these customers on the stock. They also introduced the AI technology to better analyze the customers' shopping behaviors including browser history, search history to recommand the products they most likely want. They use big data to precisely forecast the needs of the products to prepare their stock in advance so that they can use the minimum stock to satisfy customers' requirements. Furthermore, as I introduced, they conduct the same-day delivery to address the last mile delivery needs. With the high volumn online orders, they can save the cost in the store and use that to pay for the delivery cost. For customers, they can even get a cheaper price if they buy things online. This is also very helpful during the pandemic time. "
   ]
  },
  {
   "cell_type": "code",
   "execution_count": null,
   "metadata": {},
   "outputs": [],
   "source": []
  }
 ],
 "metadata": {
  "kernelspec": {
   "display_name": "Python 3",
   "language": "python",
   "name": "python3"
  },
  "language_info": {
   "codemirror_mode": {
    "name": "ipython",
    "version": 3
   },
   "file_extension": ".py",
   "mimetype": "text/x-python",
   "name": "python",
   "nbconvert_exporter": "python",
   "pygments_lexer": "ipython3",
   "version": "3.7.4"
  }
 },
 "nbformat": 4,
 "nbformat_minor": 2
}
